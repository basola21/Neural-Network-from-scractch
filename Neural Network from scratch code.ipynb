{
 "cells": [
  {
   "cell_type": "code",
   "execution_count": 54,
   "metadata": {},
   "outputs": [],
   "source": [
    "import pandas as pd\n",
    "import numpy as np"
   ]
  },
  {
   "cell_type": "code",
   "execution_count": 55,
   "metadata": {},
   "outputs": [],
   "source": [
    "def initialize_parameters(linear_dims):\n",
    "    parameters = {} #initializeing the parameters dictionarry with null\n",
    "    for i in range(0,len(linear_dims)-1):\n",
    "        dim_name = \"W\" + str(i+1) # creating the dimension name\n",
    "        bias_name = \"b\" + str(i+1) # creating the bias name\n",
    "\n",
    "        # creating a random matrix of size n*m where n is linear_dims[i+1] and m is linear_dims[i]\n",
    "        parameters[dim_name] = np.random.randn(linear_dims[i+1],linear_dims[i])\n",
    "        \n",
    "        #since bias starts after the input layer\n",
    "        parameters[bias_name] = np.zeros(linear_dims[i+1]) \n",
    "    return parameters\n",
    "    "
   ]
  },
  {
   "cell_type": "markdown",
   "metadata": {},
   "source": [
    "Linear Forward\n"
   ]
  },
  {
   "cell_type": "code",
   "execution_count": 56,
   "metadata": {},
   "outputs": [],
   "source": [
    "def linear_forward(A,W,b):\n",
    "    # multiplying the weights and adding the bias matrix\n",
    "    Z = np.matmul(W,np.transpose(A))+b\n",
    "\n",
    "    # storing weights, input matrix and biases in a tuple\n",
    "    cache = (W,A,b)\n",
    "    \n",
    "    return Z , cache"
   ]
  },
  {
   "cell_type": "markdown",
   "metadata": {},
   "source": [
    "Activation Forward\n"
   ]
  },
  {
   "cell_type": "code",
   "execution_count": 57,
   "metadata": {},
   "outputs": [],
   "source": [
    "# Had a problem with the import of the file so I decided to write the functions instead"
   ]
  },
  {
   "cell_type": "code",
   "execution_count": 58,
   "metadata": {},
   "outputs": [],
   "source": [
    "def sigmoid(Z):\n",
    "    A = 1/(1+np.exp(-Z))\n",
    "    cache = Z\n",
    "    return A, cache"
   ]
  },
  {
   "cell_type": "code",
   "execution_count": 59,
   "metadata": {},
   "outputs": [],
   "source": [
    "def relu(Z):    \n",
    "    A = np.maximum(0,Z)\n",
    "    assert(A.shape == Z.shape)\n",
    "    cache = Z \n",
    "    return A, cache"
   ]
  },
  {
   "cell_type": "code",
   "execution_count": 60,
   "metadata": {},
   "outputs": [],
   "source": [
    "def activation_forward(A,W,b,activation):\n",
    "\n",
    "    # getting Z and the linear cache\n",
    "    Z , linear_cache = linear_forward(A,W,b)\n",
    "\n",
    "    # checking activation type\n",
    "    if activation == \"sigmoid\":\n",
    "        A , activation_cache = sigmoid(Z)\n",
    "    elif activation == \"relu\":\n",
    "        A , activation_cache = relu(Z)\n",
    "\n",
    "    # retrurning the cache and Z after applying the activation funciton\n",
    "    cache = (linear_cache , activation_cache)\n",
    "    return A , cache\n"
   ]
  },
  {
   "cell_type": "markdown",
   "metadata": {},
   "source": [
    "Model Forward"
   ]
  },
  {
   "cell_type": "code",
   "execution_count": 61,
   "metadata": {},
   "outputs": [],
   "source": [
    "def model_forward(X,parameters):\n",
    "\n",
    "    NN_len = int(len(parameters)/2) # getting length of the nueral network\n",
    "    caches = []\n",
    "\n",
    "    #first layer activation is done outside the loop because we are using X intead of AL\n",
    "    AL , cache = activation_forward(X,parameters[\"W1\"],parameters[\"b1\"],activation=\"sigmoid\")\n",
    "\n",
    "    caches.append(cache)    # gets the cache for the layer then stores it in the caches list\n",
    "\n",
    "    # itirates on all the layers carrying the new parameters to each layer AL \n",
    "    for i in range(1,NN_len):\n",
    "        weight_name = \"W\" + str(i+1)\n",
    "        bias_name = \"b\" + str(i+1)\n",
    "        AL , cache = activation_forward(AL,parameters[weight_name],parameters[bias_name],activation=\"sigmoid\")\n",
    "        caches.append(cache)\n",
    "    \n",
    "    # returns the output of the last layer and all the data for the forward path in caches\n",
    "    return AL , caches"
   ]
  },
  {
   "cell_type": "code",
   "execution_count": 62,
   "metadata": {},
   "outputs": [],
   "source": [
    "def compute_cost(AL,Y):\n",
    "    m = float(len(AL)) # getting length of the input\n",
    "\n",
    "    # calculating the cost of the outputs (logistic cost function)\n",
    "    J = (-1/m)*  ( (Y*np.log(np.transpose(AL)))+(1-Y)*np.log(1-np.transpose(AL)) )\n",
    "    return J"
   ]
  },
  {
   "cell_type": "markdown",
   "metadata": {},
   "source": [
    "BackProb\n"
   ]
  },
  {
   "cell_type": "code",
   "execution_count": 63,
   "metadata": {},
   "outputs": [],
   "source": [
    "def sigmoid_backward(dA, cache):\n",
    "    Z = cache\n",
    "    s = 1/(1+np.exp(-Z))\n",
    "    dZ = dA * s * (1-s)\n",
    "    assert (dZ.shape == Z.shape)\n",
    "    return dZ"
   ]
  },
  {
   "cell_type": "code",
   "execution_count": 64,
   "metadata": {},
   "outputs": [],
   "source": [
    "def relu_backward(dA, cache):\n",
    "    Z = cache\n",
    "    dZ = np.array(dA, copy=True)\n",
    "    dZ[Z <= 0] = 0\n",
    "    assert (dZ.shape == Z.shape)\n",
    "    return dZ"
   ]
  },
  {
   "cell_type": "markdown",
   "metadata": {},
   "source": [
    "Linear Backward"
   ]
  },
  {
   "cell_type": "code",
   "execution_count": 65,
   "metadata": {},
   "outputs": [],
   "source": [
    "def linear_backward(dZ,cache):\n",
    "    W , A , b = cache #Extracting the parameters and output matrix of each layer\n",
    "\n",
    "    m = 1   # number of samples \n",
    "\n",
    "    dA = np.matmul(dZ,W)    # caculating dA\n",
    "    dW = (1/m) * dA*np.transpose([dZ]) # caculating dW\n",
    "    db = (1/m) * np.sum(dZ,axis=-1)  # caculating db\n",
    "    \n",
    "\n",
    "    return dA , dW , db\n"
   ]
  },
  {
   "cell_type": "markdown",
   "metadata": {},
   "source": [
    "Activation Backwards\n"
   ]
  },
  {
   "cell_type": "code",
   "execution_count": 66,
   "metadata": {},
   "outputs": [],
   "source": [
    "def activation_backward(dA,cache,activation):\n",
    "    \n",
    "    linear_cache , activation_cache = cache #getting linear cache and activation cache\n",
    "    \n",
    "    if activation == \"sigmoid\":\n",
    "        # if the layer is sigmoid then we must use the sigmoid backward function \n",
    "        dZ = sigmoid_backward(dA,activation_cache) \n",
    "    elif activation == \"relu\":\n",
    "        # if the layer is relu then we must use the relu backward function \n",
    "        dZ = relu_backward(dA,activation_cache)\n",
    "    \n",
    "    dA , dW , db = linear_backward(dZ,linear_cache) #uses the calculated dZ to get dA,dW,db\n",
    "\n",
    "    return dA , dW , db"
   ]
  },
  {
   "cell_type": "markdown",
   "metadata": {},
   "source": [
    "Model Backwards\n"
   ]
  },
  {
   "cell_type": "code",
   "execution_count": 67,
   "metadata": {},
   "outputs": [],
   "source": [
    "def model_backward(AL, Y, caches):\n",
    "    grads = {}  #empty dictionary to store the output gradients\n",
    "    L = len(caches) \n",
    "    Y = Y.reshape(AL.shape)\n",
    "    dAL = - (np.divide(Y, AL) - np.divide(1 - Y, 1 - AL))   #derivative of the output layer\n",
    "    current_cache = caches[L-1]                             #getting our current position in the nnetwork\n",
    "\n",
    "    # updating the dictionary with the first input which is the last layer in the neural network\n",
    "    grads[\"dA\" + str(L-1)], grads[\"dW\" + str(L)], grads[\"db\" + str(L)] = activation_backward(dAL, current_cache, \"sigmoid\")\n",
    "\n",
    "    # then moving backwards in the network we get the gradients of Z until we reach the input layer\n",
    "    for l in reversed(range(L-1)):\n",
    "        current_cache = caches[l]   #moving backwards \n",
    "        #getting the gradients\n",
    "        dA_prev_temp, dW_temp, db_temp = activation_backward(grads[\"dA\" + str(l + 1)], current_cache, activation = \"sigmoid\")\n",
    "\n",
    "        #adding the gradients to the gradients dictionary \n",
    "        grads[\"dA\" + str(l)] = dA_prev_temp\n",
    "        grads[\"dW\" + str(l + 1)] = dW_temp\n",
    "        grads[\"db\" + str(l + 1)] = db_temp\n",
    "    \n",
    "\n",
    "    #returning the gradients dictionary\n",
    "    return grads"
   ]
  },
  {
   "cell_type": "markdown",
   "metadata": {},
   "source": [
    "Parameters Update"
   ]
  },
  {
   "cell_type": "code",
   "execution_count": 68,
   "metadata": {},
   "outputs": [],
   "source": [
    "def update_parameters(parameters, grads, learning_rate):\n",
    "    L = len(parameters) // 2 # getting number of rows \n",
    "\n",
    "    #using gradient descend to update all the parameters in a vectorised form \n",
    "    for l in range(L):\n",
    "        \n",
    "        #updating theta 1\n",
    "        parameters[\"W\" + str(l+1)] = parameters[\"W\" + str(l+1)] - learning_rate * grads[\"dW\" + str(l+1)] \n",
    "        #updating theta 0\n",
    "        parameters[\"b\" + str(l+1)] = parameters[\"b\" + str(l+1)] - learning_rate * grads[\"db\" + str(l+1)]\n",
    "        \n",
    "    return parameters"
   ]
  },
  {
   "cell_type": "markdown",
   "metadata": {},
   "source": [
    "Importing the data"
   ]
  },
  {
   "cell_type": "code",
   "execution_count": 69,
   "metadata": {},
   "outputs": [],
   "source": [
    "df = pd.read_csv(r\"D:\\Collage\\TERM 6\\Neural Network\\Section\\Assignment 2\\Train_data.csv\")\n",
    "X = df.iloc[:,1:]\n",
    "Y = df.iloc[:,0]"
   ]
  },
  {
   "cell_type": "markdown",
   "metadata": {},
   "source": [
    "Constructing the Nural netwrok"
   ]
  },
  {
   "cell_type": "code",
   "execution_count": 70,
   "metadata": {},
   "outputs": [
    {
     "name": "stderr",
     "output_type": "stream",
     "text": [
      "C:\\Users\\MSI\\AppData\\Local\\Temp/ipykernel_13132/3186379129.py:2: RuntimeWarning: overflow encountered in exp\n",
      "  A = 1/(1+np.exp(-Z))\n",
      "C:\\Users\\MSI\\AppData\\Local\\Temp/ipykernel_13132/1542042511.py:3: RuntimeWarning: overflow encountered in exp\n",
      "  s = 1/(1+np.exp(-Z))\n"
     ]
    }
   ],
   "source": [
    "row_X = np.array(X.iloc[0,:]) # getting the first row in X\n",
    "row_Y = np.array(Y.iloc[0]) # getting the first item in Y\n",
    "linear_dim = [13,5,5,1]     # shape of the neural network it has to have an input layer of 13 and an output of 1\n",
    "                                \n",
    "parameters = initialize_parameters(linear_dim)  # initializing the parameters using the shape of the network \n",
    "\n",
    "cost_history= []   #empty list ot record the cost\n",
    "nepochs = 60        #number of times to go through the data\n",
    "learning_rate = 1e-3    #learning step size\n",
    "\n",
    "for epoch in range(nepochs):\n",
    "    cost_sum = 0 #cost sum of all the tries through the epoch\n",
    "\n",
    "    for i in range (0,len(Y)):      # the main loop of the netwrork \n",
    "        AL ,caches= model_forward(row_X,parameters)     # takes the first row and starts the model\n",
    "        cost = compute_cost(AL,row_Y)                   #computes the cost after the forward path\n",
    "        grads = model_backward(AL,row_Y,caches)         #starts the backwards path computing gradients\n",
    "        cost_sum += cost                                #adds the cost of this itiration \n",
    "        parameters = update_parameters(parameters,grads,learning_rate)  #updates the parameters for the iteration\n",
    "\n",
    "        row_X = np.array(X.iloc[i,:])   #gets next row in the data\n",
    "        row_Y = np.array(Y.iloc[i])     #gets next cost in the data\n",
    "    \n",
    "    cost_history.append(cost_sum/97)      #stors the sum cost of the epoch"
   ]
  },
  {
   "cell_type": "code",
   "execution_count": 71,
   "metadata": {},
   "outputs": [
    {
     "data": {
      "text/plain": [
       "Text(0.5, 1.0, 'Cost per Epoch')"
      ]
     },
     "execution_count": 71,
     "metadata": {},
     "output_type": "execute_result"
    },
    {
     "data": {
      "image/png": "[encoded data removed]",
      "text/plain": [
       "<Figure size 432x288 with 1 Axes>"
      ]
     },
     "metadata": {
      "needs_background": "light"
     },
     "output_type": "display_data"
    }
   ],
   "source": [
    "import matplotlib.pyplot as plt\n",
    "\n",
    "plt.plot(cost_history)\n",
    "plt.xlabel(\"Epoch\")\n",
    "plt.ylabel(\"cost\")\n",
    "plt.title(\"Cost per Epoch\")"
   ]
  }
 ],
 "metadata": {
  "interpreter": {
   "hash": "26de051ba29f2982a8de78e945f0abaf191376122a1563185a90213a26c5da77"
  },
  "kernelspec": {
   "display_name": "Python 3.10.1 64-bit",
   "language": "python",
   "name": "python3"
  },
  "language_info": {
   "codemirror_mode": {
    "name": "ipython",
    "version": 3
   },
   "file_extension": ".py",
   "mimetype": "text/x-python",
   "name": "python",
   "nbconvert_exporter": "python",
   "pygments_lexer": "ipython3",
   "version": "3.10.1"
  },
  "orig_nbformat": 4
 },
 "nbformat": 4,
 "nbformat_minor": 2
}
